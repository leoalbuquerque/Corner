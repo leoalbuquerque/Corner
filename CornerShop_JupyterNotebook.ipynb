{
 "cells": [
  {
   "cell_type": "markdown",
   "metadata": {},
   "source": [
    "# **Imports**"
   ]
  },
  {
   "cell_type": "code",
   "execution_count": 514,
   "metadata": {},
   "outputs": [],
   "source": [
    "#Import libraries\n",
    "import pandas as pd\n",
    "import numpy as np\n",
    "import matplotlib.pyplot as plt\n",
    "import seaborn as sns\n",
    "import sklearn"
   ]
  },
  {
   "cell_type": "markdown",
   "metadata": {},
   "source": [
    "# **Loding data**"
   ]
  },
  {
   "cell_type": "code",
   "execution_count": 515,
   "metadata": {},
   "outputs": [],
   "source": [
    "#Load datasets\n",
    "order_products = pd.read_csv('C:/Users/leona/OneDrive/Documents/DS Project - Corner/datascience-test-master-2/data/order_products.csv', sep=',') #, encoding='latin-1')\n",
    "orders = pd.read_csv('C:/Users/leona/OneDrive/Documents/DS Project - Corner/datascience-test-master-2/data/orders.csv', sep=',')\n",
    "shoppers = pd.read_csv('C:/Users/leona/OneDrive/Documents/DS Project - Corner/datascience-test-master-2/data/shoppers.csv', sep=',')\n",
    "storebranch = pd.read_csv('C:/Users/leona/OneDrive/Documents/DS Project - Corner/datascience-test-master-2/data/storebranch.csv', sep=',')"
   ]
  },
  {
   "cell_type": "markdown",
   "metadata": {},
   "source": [
    "# **Data Preparation**"
   ]
  },
  {
   "cell_type": "code",
   "execution_count": 516,
   "metadata": {},
   "outputs": [
    {
     "data": {
      "text/html": [
       "<div>\n",
       "<style scoped>\n",
       "    .dataframe tbody tr th:only-of-type {\n",
       "        vertical-align: middle;\n",
       "    }\n",
       "\n",
       "    .dataframe tbody tr th {\n",
       "        vertical-align: top;\n",
       "    }\n",
       "\n",
       "    .dataframe thead th {\n",
       "        text-align: right;\n",
       "    }\n",
       "</style>\n",
       "<table border=\"1\" class=\"dataframe\">\n",
       "  <thead>\n",
       "    <tr style=\"text-align: right;\">\n",
       "      <th></th>\n",
       "      <th>lat</th>\n",
       "      <th>lng</th>\n",
       "      <th>total_minutes</th>\n",
       "    </tr>\n",
       "  </thead>\n",
       "  <tbody>\n",
       "    <tr>\n",
       "      <th>count</th>\n",
       "      <td>10000.000000</td>\n",
       "      <td>10000.000000</td>\n",
       "      <td>8000.000000</td>\n",
       "    </tr>\n",
       "    <tr>\n",
       "      <th>mean</th>\n",
       "      <td>-33.427090</td>\n",
       "      <td>-70.668017</td>\n",
       "      <td>81.106130</td>\n",
       "    </tr>\n",
       "    <tr>\n",
       "      <th>std</th>\n",
       "      <td>0.558675</td>\n",
       "      <td>0.400249</td>\n",
       "      <td>34.720837</td>\n",
       "    </tr>\n",
       "    <tr>\n",
       "      <th>min</th>\n",
       "      <td>-36.942135</td>\n",
       "      <td>-73.144281</td>\n",
       "      <td>11.969489</td>\n",
       "    </tr>\n",
       "    <tr>\n",
       "      <th>25%</th>\n",
       "      <td>-33.426861</td>\n",
       "      <td>-70.605795</td>\n",
       "      <td>55.225480</td>\n",
       "    </tr>\n",
       "    <tr>\n",
       "      <th>50%</th>\n",
       "      <td>-33.398110</td>\n",
       "      <td>-70.574591</td>\n",
       "      <td>74.731672</td>\n",
       "    </tr>\n",
       "    <tr>\n",
       "      <th>75%</th>\n",
       "      <td>-33.353783</td>\n",
       "      <td>-70.540307</td>\n",
       "      <td>100.273498</td>\n",
       "    </tr>\n",
       "    <tr>\n",
       "      <th>max</th>\n",
       "      <td>-29.833517</td>\n",
       "      <td>-70.453728</td>\n",
       "      <td>304.190303</td>\n",
       "    </tr>\n",
       "  </tbody>\n",
       "</table>\n",
       "</div>"
      ],
      "text/plain": [
       "                lat           lng  total_minutes\n",
       "count  10000.000000  10000.000000    8000.000000\n",
       "mean     -33.427090    -70.668017      81.106130\n",
       "std        0.558675      0.400249      34.720837\n",
       "min      -36.942135    -73.144281      11.969489\n",
       "25%      -33.426861    -70.605795      55.225480\n",
       "50%      -33.398110    -70.574591      74.731672\n",
       "75%      -33.353783    -70.540307     100.273498\n",
       "max      -29.833517    -70.453728     304.190303"
      ]
     },
     "execution_count": 516,
     "metadata": {},
     "output_type": "execute_result"
    }
   ],
   "source": [
    "#Analysing some metrics thru descriptive statistics\n",
    "shoppers.describe()\n",
    "orders.describe()"
   ]
  },
  {
   "cell_type": "code",
   "execution_count": 517,
   "metadata": {},
   "outputs": [
    {
     "data": {
      "text/html": [
       "<div>\n",
       "<style scoped>\n",
       "    .dataframe tbody tr th:only-of-type {\n",
       "        vertical-align: middle;\n",
       "    }\n",
       "\n",
       "    .dataframe tbody tr th {\n",
       "        vertical-align: top;\n",
       "    }\n",
       "\n",
       "    .dataframe thead th {\n",
       "        text-align: right;\n",
       "    }\n",
       "</style>\n",
       "<table border=\"1\" class=\"dataframe\">\n",
       "  <thead>\n",
       "    <tr style=\"text-align: right;\">\n",
       "      <th></th>\n",
       "      <th>found_rate</th>\n",
       "      <th>accepted_rate</th>\n",
       "      <th>rating</th>\n",
       "    </tr>\n",
       "  </thead>\n",
       "  <tbody>\n",
       "    <tr>\n",
       "      <th>mean</th>\n",
       "      <td>0.861082</td>\n",
       "      <td>0.908276</td>\n",
       "      <td>4.848428</td>\n",
       "    </tr>\n",
       "    <tr>\n",
       "      <th>median</th>\n",
       "      <td>0.863900</td>\n",
       "      <td>0.944444</td>\n",
       "      <td>4.880000</td>\n",
       "    </tr>\n",
       "  </tbody>\n",
       "</table>\n",
       "</div>"
      ],
      "text/plain": [
       "        found_rate  accepted_rate    rating\n",
       "mean      0.861082       0.908276  4.848428\n",
       "median    0.863900       0.944444  4.880000"
      ]
     },
     "execution_count": 517,
     "metadata": {},
     "output_type": "execute_result"
    }
   ],
   "source": [
    "#Checking null values\n",
    "order_products.isnull().sum()\n",
    "orders.isnull().sum()\n",
    "storebranch.isnull().sum()\n",
    "\n",
    "#Null values found on the follow columns: found_rate, accepted_rate, rating\n",
    "shoppers.isnull().sum()\n",
    "\n",
    "#Identifying how these amounts represent relatively according to the whole dataset (percentual)\n",
    "shoppers.isnull().sum() / shoppers[\"shopper_id\"].count() * 100\n",
    "\n",
    "#Checking some descriptive statistics to find an interesting way to replace the missing values\n",
    "shoppers[\"found_rate\"].describe()\n",
    "shoppers[\"accepted_rate\"].describe()\n",
    "shoppers[\"rating\"].describe()\n",
    "\n",
    "#Checking mean and median groupped by Seniority to see if there any relation between, but discovered that it's not relevant\n",
    "#Median was used to discart outliers if exist\n",
    "shoppers.groupby(\"seniority\").agg({'found_rate': ['mean','median'], \n",
    "                                   'accepted_rate': ['mean','median'], \n",
    "                                   'rating': ['mean','median']}).sort_values('seniority', ascending=True)\n",
    "\n",
    "shoppers.agg({'found_rate': ['mean','median'], \n",
    "                                   'accepted_rate': ['mean','median'], \n",
    "                                   'rating': ['mean','median']})\n",
    "#shoppers.describe()"
   ]
  },
  {
   "cell_type": "code",
   "execution_count": 518,
   "metadata": {},
   "outputs": [],
   "source": [
    "#I've decided to impute the median of each metric instead of missing values\n",
    "from sklearn.impute import SimpleImputer\n",
    "imputer = SimpleImputer(missing_values=np.nan, strategy='median')\n",
    "imputer = imputer.fit(shoppers[['found_rate', 'accepted_rate', 'rating']])\n",
    "shoppers[['found_rate', 'accepted_rate', 'rating']] = imputer.transform(\n",
    "    shoppers[['found_rate', 'accepted_rate', 'rating']].values)"
   ]
  },
  {
   "cell_type": "code",
   "execution_count": 519,
   "metadata": {},
   "outputs": [
    {
     "data": {
      "text/html": [
       "<div>\n",
       "<style scoped>\n",
       "    .dataframe tbody tr th:only-of-type {\n",
       "        vertical-align: middle;\n",
       "    }\n",
       "\n",
       "    .dataframe tbody tr th {\n",
       "        vertical-align: top;\n",
       "    }\n",
       "\n",
       "    .dataframe thead th {\n",
       "        text-align: right;\n",
       "    }\n",
       "</style>\n",
       "<table border=\"1\" class=\"dataframe\">\n",
       "  <thead>\n",
       "    <tr style=\"text-align: right;\">\n",
       "      <th></th>\n",
       "      <th>shopper_id</th>\n",
       "      <th>seniority</th>\n",
       "      <th>found_rate</th>\n",
       "      <th>picking_speed</th>\n",
       "      <th>accepted_rate</th>\n",
       "      <th>rating</th>\n",
       "    </tr>\n",
       "  </thead>\n",
       "  <tbody>\n",
       "    <tr>\n",
       "      <th>3</th>\n",
       "      <td>db39866e62b95bb04ebb1e470f2d1347</td>\n",
       "      <td>50e13ee63f086c2fe84229348bc91b5b</td>\n",
       "      <td>0.8639</td>\n",
       "      <td>2.41</td>\n",
       "      <td>0.944444</td>\n",
       "      <td>4.88</td>\n",
       "    </tr>\n",
       "  </tbody>\n",
       "</table>\n",
       "</div>"
      ],
      "text/plain": [
       "                         shopper_id                         seniority  \\\n",
       "3  db39866e62b95bb04ebb1e470f2d1347  50e13ee63f086c2fe84229348bc91b5b   \n",
       "\n",
       "   found_rate  picking_speed  accepted_rate  rating  \n",
       "3      0.8639           2.41       0.944444    4.88  "
      ]
     },
     "execution_count": 519,
     "metadata": {},
     "output_type": "execute_result"
    }
   ],
   "source": [
    "#Testing a previous null case and checking that now it is input as the median values\n",
    "shoppers[shoppers[\"shopper_id\"] == \"db39866e62b95bb04ebb1e470f2d1347\"]"
   ]
  },
  {
   "cell_type": "code",
   "execution_count": 520,
   "metadata": {},
   "outputs": [
    {
     "data": {
      "text/plain": [
       "order_id      198500\n",
       "product_id    198500\n",
       "quantity      198500\n",
       "buy_unit      198500\n",
       "dtype: int64"
      ]
     },
     "execution_count": 520,
     "metadata": {},
     "output_type": "execute_result"
    }
   ],
   "source": [
    "orders[\"on_demand\"].value_counts()\n",
    "orders.count()\n",
    "order_products.count()"
   ]
  },
  {
   "cell_type": "code",
   "execution_count": 521,
   "metadata": {},
   "outputs": [
    {
     "data": {
      "text/html": [
       "<div>\n",
       "<style scoped>\n",
       "    .dataframe tbody tr th:only-of-type {\n",
       "        vertical-align: middle;\n",
       "    }\n",
       "\n",
       "    .dataframe tbody tr th {\n",
       "        vertical-align: top;\n",
       "    }\n",
       "\n",
       "    .dataframe thead th {\n",
       "        text-align: right;\n",
       "    }\n",
       "</style>\n",
       "<table border=\"1\" class=\"dataframe\">\n",
       "  <thead>\n",
       "    <tr style=\"text-align: right;\">\n",
       "      <th></th>\n",
       "      <th>order_id</th>\n",
       "      <th>product_id</th>\n",
       "      <th>quantity</th>\n",
       "      <th>buy_unit</th>\n",
       "      <th>quantity_UN</th>\n",
       "      <th>quantity_KG</th>\n",
       "    </tr>\n",
       "  </thead>\n",
       "  <tbody>\n",
       "    <tr>\n",
       "      <th>0</th>\n",
       "      <td>47099653730fb1b76537fc10ad876255</td>\n",
       "      <td>c1244453d731c77416cb4766e3bd76cb</td>\n",
       "      <td>1.0</td>\n",
       "      <td>UN</td>\n",
       "      <td>1.0</td>\n",
       "      <td>0.0</td>\n",
       "    </tr>\n",
       "    <tr>\n",
       "      <th>1</th>\n",
       "      <td>689d8866915acf87e851c2591a23a82f</td>\n",
       "      <td>43cc2b100bec640fe563cd16f2db669f</td>\n",
       "      <td>1.0</td>\n",
       "      <td>KG</td>\n",
       "      <td>0.0</td>\n",
       "      <td>1.0</td>\n",
       "    </tr>\n",
       "    <tr>\n",
       "      <th>2</th>\n",
       "      <td>f26d16bf6f38c9e31d0be877f4013a9e</td>\n",
       "      <td>b8f880759d014134e272d881d49989a2</td>\n",
       "      <td>1.0</td>\n",
       "      <td>UN</td>\n",
       "      <td>1.0</td>\n",
       "      <td>0.0</td>\n",
       "    </tr>\n",
       "    <tr>\n",
       "      <th>3</th>\n",
       "      <td>161ccc896835ab41761b0e726becb6b1</td>\n",
       "      <td>dbc062b9bef805d27a6f4bea7edfe1f1</td>\n",
       "      <td>1.0</td>\n",
       "      <td>UN</td>\n",
       "      <td>1.0</td>\n",
       "      <td>0.0</td>\n",
       "    </tr>\n",
       "    <tr>\n",
       "      <th>4</th>\n",
       "      <td>4713deca10bb5db98fae150b52d61fc0</td>\n",
       "      <td>93a060f269bb569398921100f84c519a</td>\n",
       "      <td>2.0</td>\n",
       "      <td>UN</td>\n",
       "      <td>2.0</td>\n",
       "      <td>0.0</td>\n",
       "    </tr>\n",
       "    <tr>\n",
       "      <th>...</th>\n",
       "      <td>...</td>\n",
       "      <td>...</td>\n",
       "      <td>...</td>\n",
       "      <td>...</td>\n",
       "      <td>...</td>\n",
       "      <td>...</td>\n",
       "    </tr>\n",
       "    <tr>\n",
       "      <th>198495</th>\n",
       "      <td>edd8fe4fd7d75de060cae811756603b0</td>\n",
       "      <td>e7f4a5ea6d480b7a1a7076fad543875e</td>\n",
       "      <td>3.0</td>\n",
       "      <td>UN</td>\n",
       "      <td>3.0</td>\n",
       "      <td>0.0</td>\n",
       "    </tr>\n",
       "    <tr>\n",
       "      <th>198496</th>\n",
       "      <td>70c0ff9c8533539b1c04e96398fef697</td>\n",
       "      <td>f506d0401b99c6c00d8792d38ce93aa1</td>\n",
       "      <td>6.0</td>\n",
       "      <td>UN</td>\n",
       "      <td>6.0</td>\n",
       "      <td>0.0</td>\n",
       "    </tr>\n",
       "    <tr>\n",
       "      <th>198497</th>\n",
       "      <td>dcf086aadb08ef7e695fadd723d881a7</td>\n",
       "      <td>c9970c5966ad6399d1c52aef34268699</td>\n",
       "      <td>1.0</td>\n",
       "      <td>UN</td>\n",
       "      <td>1.0</td>\n",
       "      <td>0.0</td>\n",
       "    </tr>\n",
       "    <tr>\n",
       "      <th>198498</th>\n",
       "      <td>f5f76f8fb58cdafe94b41fd836dfcec7</td>\n",
       "      <td>2cdd75fa252b3918918c662922b11b6e</td>\n",
       "      <td>3.0</td>\n",
       "      <td>UN</td>\n",
       "      <td>3.0</td>\n",
       "      <td>0.0</td>\n",
       "    </tr>\n",
       "    <tr>\n",
       "      <th>198499</th>\n",
       "      <td>e7ab48bb94f4790655531345aae6bd96</td>\n",
       "      <td>dd39130d6dfad68251ba147f7477e81b</td>\n",
       "      <td>1.0</td>\n",
       "      <td>UN</td>\n",
       "      <td>1.0</td>\n",
       "      <td>0.0</td>\n",
       "    </tr>\n",
       "  </tbody>\n",
       "</table>\n",
       "<p>198500 rows × 6 columns</p>\n",
       "</div>"
      ],
      "text/plain": [
       "                                order_id                        product_id  \\\n",
       "0       47099653730fb1b76537fc10ad876255  c1244453d731c77416cb4766e3bd76cb   \n",
       "1       689d8866915acf87e851c2591a23a82f  43cc2b100bec640fe563cd16f2db669f   \n",
       "2       f26d16bf6f38c9e31d0be877f4013a9e  b8f880759d014134e272d881d49989a2   \n",
       "3       161ccc896835ab41761b0e726becb6b1  dbc062b9bef805d27a6f4bea7edfe1f1   \n",
       "4       4713deca10bb5db98fae150b52d61fc0  93a060f269bb569398921100f84c519a   \n",
       "...                                  ...                               ...   \n",
       "198495  edd8fe4fd7d75de060cae811756603b0  e7f4a5ea6d480b7a1a7076fad543875e   \n",
       "198496  70c0ff9c8533539b1c04e96398fef697  f506d0401b99c6c00d8792d38ce93aa1   \n",
       "198497  dcf086aadb08ef7e695fadd723d881a7  c9970c5966ad6399d1c52aef34268699   \n",
       "198498  f5f76f8fb58cdafe94b41fd836dfcec7  2cdd75fa252b3918918c662922b11b6e   \n",
       "198499  e7ab48bb94f4790655531345aae6bd96  dd39130d6dfad68251ba147f7477e81b   \n",
       "\n",
       "        quantity buy_unit  quantity_UN  quantity_KG  \n",
       "0            1.0       UN          1.0          0.0  \n",
       "1            1.0       KG          0.0          1.0  \n",
       "2            1.0       UN          1.0          0.0  \n",
       "3            1.0       UN          1.0          0.0  \n",
       "4            2.0       UN          2.0          0.0  \n",
       "...          ...      ...          ...          ...  \n",
       "198495       3.0       UN          3.0          0.0  \n",
       "198496       6.0       UN          6.0          0.0  \n",
       "198497       1.0       UN          1.0          0.0  \n",
       "198498       3.0       UN          3.0          0.0  \n",
       "198499       1.0       UN          1.0          0.0  \n",
       "\n",
       "[198500 rows x 6 columns]"
      ]
     },
     "execution_count": 521,
     "metadata": {},
     "output_type": "execute_result"
    }
   ],
   "source": [
    "#Creating a procedure for splitting the \"buy_unit\" field into the two new fields: \"quantity_UN\" and \"quantity_KG\"\n",
    "order_products.loc[order_products['buy_unit']==\"UN\", 'quantity_UN'] = order_products['quantity']\n",
    "order_products.loc[order_products['buy_unit']!=\"UN\", 'quantity_UN'] = 0\n",
    "order_products.loc[order_products['buy_unit']==\"KG\", 'quantity_KG'] = order_products['quantity']\n",
    "order_products.loc[order_products['buy_unit']!=\"KG\", 'quantity_KG'] = 0\n",
    "order_products"
   ]
  },
  {
   "cell_type": "code",
   "execution_count": 522,
   "metadata": {},
   "outputs": [
    {
     "data": {
      "text/html": [
       "<div>\n",
       "<style scoped>\n",
       "    .dataframe tbody tr th:only-of-type {\n",
       "        vertical-align: middle;\n",
       "    }\n",
       "\n",
       "    .dataframe tbody tr th {\n",
       "        vertical-align: top;\n",
       "    }\n",
       "\n",
       "    .dataframe thead th {\n",
       "        text-align: right;\n",
       "    }\n",
       "</style>\n",
       "<table border=\"1\" class=\"dataframe\">\n",
       "  <thead>\n",
       "    <tr style=\"text-align: right;\">\n",
       "      <th></th>\n",
       "      <th>order_id</th>\n",
       "      <th>quantity_UN</th>\n",
       "      <th>quantity_KG</th>\n",
       "    </tr>\n",
       "  </thead>\n",
       "  <tbody>\n",
       "    <tr>\n",
       "      <th>0</th>\n",
       "      <td>0004a3841c1eeb6c6e77585a941c21e0</td>\n",
       "      <td>8.0</td>\n",
       "      <td>0.000</td>\n",
       "    </tr>\n",
       "    <tr>\n",
       "      <th>1</th>\n",
       "      <td>0005a6ecbbde1e8d273f5577bcff2c9c</td>\n",
       "      <td>2.0</td>\n",
       "      <td>0.000</td>\n",
       "    </tr>\n",
       "    <tr>\n",
       "      <th>2</th>\n",
       "      <td>0007baeb6700fc203be2d1f1e11222d7</td>\n",
       "      <td>39.0</td>\n",
       "      <td>0.000</td>\n",
       "    </tr>\n",
       "    <tr>\n",
       "      <th>3</th>\n",
       "      <td>0012195a6a8ca9ec308a3010eeea8ebc</td>\n",
       "      <td>13.0</td>\n",
       "      <td>0.000</td>\n",
       "    </tr>\n",
       "    <tr>\n",
       "      <th>4</th>\n",
       "      <td>0013011fa72b498b9feb84f4e7104980</td>\n",
       "      <td>63.0</td>\n",
       "      <td>1.636</td>\n",
       "    </tr>\n",
       "    <tr>\n",
       "      <th>...</th>\n",
       "      <td>...</td>\n",
       "      <td>...</td>\n",
       "      <td>...</td>\n",
       "    </tr>\n",
       "    <tr>\n",
       "      <th>9973</th>\n",
       "      <td>ffc3234b2e009e5422a4b5e24961c038</td>\n",
       "      <td>13.0</td>\n",
       "      <td>5.100</td>\n",
       "    </tr>\n",
       "    <tr>\n",
       "      <th>9974</th>\n",
       "      <td>ffcc66cd4d1056b67523a39ff07d7700</td>\n",
       "      <td>68.0</td>\n",
       "      <td>4.015</td>\n",
       "    </tr>\n",
       "    <tr>\n",
       "      <th>9975</th>\n",
       "      <td>ffcf270be4bba33349ce827c70fe9439</td>\n",
       "      <td>52.0</td>\n",
       "      <td>0.332</td>\n",
       "    </tr>\n",
       "    <tr>\n",
       "      <th>9976</th>\n",
       "      <td>ffdbc12cfcf7101a517a7eb7e1776c43</td>\n",
       "      <td>36.0</td>\n",
       "      <td>3.602</td>\n",
       "    </tr>\n",
       "    <tr>\n",
       "      <th>9977</th>\n",
       "      <td>ffe8fa40d7e51f9860b62b5e9d798a57</td>\n",
       "      <td>29.0</td>\n",
       "      <td>0.000</td>\n",
       "    </tr>\n",
       "  </tbody>\n",
       "</table>\n",
       "<p>9978 rows × 3 columns</p>\n",
       "</div>"
      ],
      "text/plain": [
       "                              order_id  quantity_UN  quantity_KG\n",
       "0     0004a3841c1eeb6c6e77585a941c21e0          8.0        0.000\n",
       "1     0005a6ecbbde1e8d273f5577bcff2c9c          2.0        0.000\n",
       "2     0007baeb6700fc203be2d1f1e11222d7         39.0        0.000\n",
       "3     0012195a6a8ca9ec308a3010eeea8ebc         13.0        0.000\n",
       "4     0013011fa72b498b9feb84f4e7104980         63.0        1.636\n",
       "...                                ...          ...          ...\n",
       "9973  ffc3234b2e009e5422a4b5e24961c038         13.0        5.100\n",
       "9974  ffcc66cd4d1056b67523a39ff07d7700         68.0        4.015\n",
       "9975  ffcf270be4bba33349ce827c70fe9439         52.0        0.332\n",
       "9976  ffdbc12cfcf7101a517a7eb7e1776c43         36.0        3.602\n",
       "9977  ffe8fa40d7e51f9860b62b5e9d798a57         29.0        0.000\n",
       "\n",
       "[9978 rows x 3 columns]"
      ]
     },
     "execution_count": 522,
     "metadata": {},
     "output_type": "execute_result"
    }
   ],
   "source": [
    "#It's necessary to aggregate the 'order_products' dataset by 'order_id'\n",
    "order_products_agg = order_products.groupby('order_id').sum()[['quantity_UN', 'quantity_KG']]\n",
    "order_products_agg = order_products_agg.reset_index(level=0)\n",
    "order_products_agg"
   ]
  },
  {
   "cell_type": "code",
   "execution_count": 523,
   "metadata": {},
   "outputs": [],
   "source": [
    "#Merging the datasets together, applying inner (using the 'order_products_agg' dataset)\n",
    "corner = pd.merge(orders, order_products_agg, how=\"inner\", on=[\"order_id\", \"order_id\"])\n",
    "corner = pd.merge(corner, shoppers, how=\"inner\", on=[\"shopper_id\", \"shopper_id\"])\n",
    "corner = pd.merge(corner, storebranch, how=\"inner\", on=[\"store_branch_id\", \"store_branch_id\"])"
   ]
  },
  {
   "cell_type": "code",
   "execution_count": 524,
   "metadata": {},
   "outputs": [
    {
     "name": "stdout",
     "output_type": "stream",
     "text": [
      "(10000, 8)\n",
      "(198500, 6)\n",
      "(2864, 6)\n",
      "(476, 4)\n",
      "(9978, 18)\n"
     ]
    }
   ],
   "source": [
    "#Analysing the merge results\n",
    "print(orders.shape)\n",
    "print(order_products.shape)\n",
    "print(shoppers.shape)\n",
    "print(storebranch.shape)\n",
    "print(corner.shape)\n",
    "#print(corner.isnull().sum())\n",
    "#print(corner.count())"
   ]
  },
  {
   "cell_type": "code",
   "execution_count": 525,
   "metadata": {},
   "outputs": [
    {
     "data": {
      "text/plain": [
       "<matplotlib.axes._subplots.AxesSubplot at 0x1fac48f9a48>"
      ]
     },
     "execution_count": 525,
     "metadata": {},
     "output_type": "execute_result"
    },
    {
     "data": {
      "image/png": "[encoded data removed]",
      "text/plain": [
       "<Figure size 432x288 with 1 Axes>"
      ]
     },
     "metadata": {
      "needs_background": "light"
     },
     "output_type": "display_data"
    }
   ],
   "source": [
    "#Distribution curve across our label\n",
    "sns.distplot(corner['total_minutes'])"
   ]
  },
  {
   "cell_type": "code",
   "execution_count": 526,
   "metadata": {},
   "outputs": [
    {
     "data": {
      "text/plain": [
       "<matplotlib.axes._subplots.AxesSubplot at 0x1fac4847908>"
      ]
     },
     "execution_count": 526,
     "metadata": {},
     "output_type": "execute_result"
    },
    {
     "data": {
      "image/png": "[encoded data removed]",
      "text/plain": [
       "<Figure size 432x288 with 2 Axes>"
      ]
     },
     "metadata": {
      "needs_background": "light"
     },
     "output_type": "display_data"
    }
   ],
   "source": [
    "#Analysing the distribution of the label field\n",
    "sns.distplot(corner['total_minutes'])\n",
    "\n",
    "#Analysing the correlation among total_minutes and the other metrics available\n",
    "corner.corr()\n",
    "sns.heatmap(corner.corr(), annot=True)"
   ]
  },
  {
   "cell_type": "code",
   "execution_count": 527,
   "metadata": {},
   "outputs": [],
   "source": [
    "#Renaming the columns name\n",
    "corner = corner.rename(columns={'lat_x': 'lat_order', 'lng_x': 'lng_order'})\n",
    "corner = corner.rename(columns={'lat_y': 'lat_store', 'lng_y': 'lng_store'})"
   ]
  },
  {
   "cell_type": "code",
   "execution_count": 528,
   "metadata": {},
   "outputs": [],
   "source": [
    "#Converting to integer values: \"True\" to 1 / \"False\" to 0\n",
    "corner['on_demand'] = corner[\"on_demand\"].apply(lambda x : 1 if (x==True) else 0)"
   ]
  },
  {
   "cell_type": "code",
   "execution_count": 582,
   "metadata": {},
   "outputs": [],
   "source": [
    "#Converting categorical field to numeric by LabelEncoder library\n",
    "from sklearn.preprocessing import LabelEncoder, OneHotEncoder\n",
    "le = LabelEncoder()\n",
    "corner['seniority'] = le.fit_transform(corner['seniority'])\n",
    "#corner['promised_time_'] = le.fit_transform(corner['promised_time'])"
   ]
  },
  {
   "cell_type": "code",
   "execution_count": 587,
   "metadata": {},
   "outputs": [
    {
     "name": "stdout",
     "output_type": "stream",
     "text": [
      "<class 'pandas.core.frame.DataFrame'>\n",
      "Int64Index: 9978 entries, 0 to 9977\n",
      "Data columns (total 18 columns):\n",
      " #   Column           Non-Null Count  Dtype  \n",
      "---  ------           --------------  -----  \n",
      " 0   order_id         9978 non-null   object \n",
      " 1   lat_order        9978 non-null   float64\n",
      " 2   lng_order        9978 non-null   float64\n",
      " 3   promised_time    9978 non-null   int64  \n",
      " 4   on_demand        9978 non-null   int64  \n",
      " 5   shopper_id       9978 non-null   object \n",
      " 6   store_branch_id  9978 non-null   object \n",
      " 7   total_minutes    7983 non-null   float64\n",
      " 8   quantity_UN      9978 non-null   float64\n",
      " 9   quantity_KG      9978 non-null   float64\n",
      " 10  seniority        9978 non-null   int32  \n",
      " 11  found_rate       9978 non-null   float64\n",
      " 12  picking_speed    9978 non-null   float64\n",
      " 13  accepted_rate    9978 non-null   float64\n",
      " 14  rating           9978 non-null   float64\n",
      " 15  store_id         9978 non-null   object \n",
      " 16  lat_store        9978 non-null   float64\n",
      " 17  lng_store        9978 non-null   float64\n",
      "dtypes: float64(11), int32(1), int64(2), object(4)\n",
      "memory usage: 1.7+ MB\n"
     ]
    }
   ],
   "source": [
    "#Converting datetime object field to integer\n",
    "corner['promised_time'] = pd.to_datetime(corner['promised_time'])\n",
    "corner['promised_time'] = pd.to_datetime(corner['promised_time']).astype(np.int64)\n",
    "corner.info() #OK"
   ]
  },
  {
   "cell_type": "code",
   "execution_count": 588,
   "metadata": {},
   "outputs": [],
   "source": [
    "#Moving the rows that we want to predict (the goal of this activity) to a new dataset\n",
    "predict = corner[corner['total_minutes'].isnull()]\n",
    "predict = predict[['order_id','lat_order','lng_order','on_demand','quantity_UN','quantity_KG','seniority','found_rate',\n",
    "      'picking_speed','accepted_rate','rating','lat_store','lng_store','promised_time']]"
   ]
  },
  {
   "cell_type": "code",
   "execution_count": 589,
   "metadata": {},
   "outputs": [],
   "source": [
    "#Removing predict dataset\n",
    "X = corner.dropna(subset=['total_minutes'], inplace=True)\n",
    "Y = corner.dropna(subset=['total_minutes'], inplace=True)\n",
    "\n",
    "#Picking up the useful fields for the feature dataset\n",
    "X = corner[['lat_order','lng_order','on_demand','quantity_UN','quantity_KG','seniority','found_rate',\n",
    "      'picking_speed','accepted_rate','rating','lat_store','lng_store','promised_time']]\n",
    "\n",
    "#Label dataset\n",
    "Y = corner[['total_minutes']]"
   ]
  },
  {
   "cell_type": "code",
   "execution_count": 614,
   "metadata": {},
   "outputs": [
    {
     "name": "stdout",
     "output_type": "stream",
     "text": [
      "(7983, 13)\n",
      "(7983, 1)\n",
      "(1995, 13)\n"
     ]
    }
   ],
   "source": [
    "print(X.shape)\n",
    "print(Y.shape)\n",
    "print(predict.shape)\n",
    "#print(corner.shape)"
   ]
  },
  {
   "cell_type": "markdown",
   "metadata": {},
   "source": [
    "# **Feature Scalling**"
   ]
  },
  {
   "cell_type": "code",
   "execution_count": null,
   "metadata": {},
   "outputs": [],
   "source": [
    "#Transforming the features to a Standard scale\n",
    "from sklearn.preprocessing import StandardScaler\n",
    "scaler = StandardScaler()\n",
    "X = scaler.fit_transform(X)\n",
    "predict = scaler.fit_transform(predict[['lat_order','lng_order','on_demand','quantity_UN','quantity_KG','seniority','found_rate',\n",
    "      'picking_speed','accepted_rate','rating','lat_store','lng_store','promised_time']])"
   ]
  },
  {
   "cell_type": "markdown",
   "metadata": {},
   "source": [
    "# **Dataset Split**"
   ]
  },
  {
   "cell_type": "code",
   "execution_count": 615,
   "metadata": {},
   "outputs": [],
   "source": [
    "#Splitting my dataset into train/test dataset\n",
    "#Training dataset: 70%\n",
    "#Testing dataset: 30%\n",
    "from sklearn.model_selection import train_test_split\n",
    "X_train, X_test, Y_train, Y_test = train_test_split(X, Y, test_size=0.3, random_state=42)"
   ]
  },
  {
   "cell_type": "markdown",
   "metadata": {},
   "source": [
    "# **Model Training**"
   ]
  },
  {
   "cell_type": "code",
   "execution_count": 616,
   "metadata": {},
   "outputs": [
    {
     "data": {
      "text/plain": [
       "LinearRegression()"
      ]
     },
     "execution_count": 616,
     "metadata": {},
     "output_type": "execute_result"
    }
   ],
   "source": [
    "#Creating the LinearRegression model for the training dataset\n",
    "from sklearn.linear_model import LinearRegression\n",
    "lm = LinearRegression()\n",
    "lm.fit(X_train, Y_train)"
   ]
  },
  {
   "cell_type": "markdown",
   "metadata": {},
   "source": [
    "# **Evaluate the Model**"
   ]
  },
  {
   "cell_type": "code",
   "execution_count": 617,
   "metadata": {},
   "outputs": [],
   "source": [
    "#Appling the testing dataset to be predicted\n",
    "predictions = lm.predict(X_test)"
   ]
  },
  {
   "cell_type": "code",
   "execution_count": 618,
   "metadata": {},
   "outputs": [
    {
     "data": {
      "text/plain": [
       "<matplotlib.collections.PathCollection at 0x1fac89360c8>"
      ]
     },
     "execution_count": 618,
     "metadata": {},
     "output_type": "execute_result"
    },
    {
     "data": {
      "image/png": "[encoded data removed]",
      "text/plain": [
       "<Figure size 432x288 with 1 Axes>"
      ]
     },
     "metadata": {
      "needs_background": "light"
     },
     "output_type": "display_data"
    }
   ],
   "source": [
    "#Comparing the results predicted with the correct label\n",
    "plt.scatter(Y_test, predictions)"
   ]
  },
  {
   "cell_type": "code",
   "execution_count": 619,
   "metadata": {},
   "outputs": [
    {
     "data": {
      "text/plain": [
       "<matplotlib.axes._subplots.AxesSubplot at 0x1fac8905b08>"
      ]
     },
     "execution_count": 619,
     "metadata": {},
     "output_type": "execute_result"
    },
    {
     "data": {
      "image/png": "[encoded data removed]",
      "text/plain": [
       "<Figure size 432x288 with 1 Axes>"
      ]
     },
     "metadata": {
      "needs_background": "light"
     },
     "output_type": "display_data"
    }
   ],
   "source": [
    "#Analysing the residuals in a graphically way\n",
    "sns.distplot((Y_test-predictions))"
   ]
  },
  {
   "cell_type": "markdown",
   "metadata": {},
   "source": [
    "# **Performance Metrics**"
   ]
  },
  {
   "cell_type": "code",
   "execution_count": 620,
   "metadata": {},
   "outputs": [
    {
     "name": "stdout",
     "output_type": "stream",
     "text": [
      "MAE: 21.259475873108272\n",
      "MSE: 783.6399781299232\n",
      "RMSE 27.9935702998014\n"
     ]
    }
   ],
   "source": [
    "#Analysing the Regression Evaluation Metrics - Model Accuracy\n",
    "from sklearn import metrics\n",
    "print(\"MAE:\",metrics.mean_absolute_error(Y_test, predictions)) #Mean Absolute Error (MAE)\n",
    "print(\"MSE:\",metrics.mean_squared_error(Y_test, predictions)) #Mean Squared Error (MSE)\n",
    "print(\"RMSE\",np.sqrt(metrics.mean_squared_error(Y_test, predictions))) #Root Mean Squared Error (RMSE)"
   ]
  },
  {
   "cell_type": "markdown",
   "metadata": {},
   "source": [
    "# **Applying the predictions dataset**"
   ]
  },
  {
   "cell_type": "code",
   "execution_count": 623,
   "metadata": {},
   "outputs": [],
   "source": [
    "#Applying the predictions dataset (purpose of this activity)\n",
    "activity_predictions = lm.predict(predict)"
   ]
  }
 ],
 "metadata": {
  "kernelspec": {
   "display_name": "Python 3",
   "language": "python",
   "name": "python3"
  },
  "language_info": {
   "codemirror_mode": {
    "name": "ipython",
    "version": 3
   },
   "file_extension": ".py",
   "mimetype": "text/x-python",
   "name": "python",
   "nbconvert_exporter": "python",
   "pygments_lexer": "ipython3",
   "version": "3.7.6"
  }
 },
 "nbformat": 4,
 "nbformat_minor": 4
}
